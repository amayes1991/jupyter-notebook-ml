{
  "cells": [
    {
      "cell_type": "code",
      "execution_count": 1,
      "id": "14b48c59-cdbc-49f9-8a05-2006b91f4323",
      "metadata": {
        "id": "14b48c59-cdbc-49f9-8a05-2006b91f4323",
        "outputId": "3976b067-81a8-43e7-a930-c21347628c44",
        "colab": {
          "base_uri": "https://localhost:8080/",
          "height": 356
        }
      },
      "outputs": [
        {
          "output_type": "error",
          "ename": "FileNotFoundError",
          "evalue": "[Errno 2] No such file or directory: 'C:\\\\Users\\\\amaye\\\\Downloads\\\\archiverisk\\\\Hypertension-risk-model-main.csv'",
          "traceback": [
            "\u001b[0;31m---------------------------------------------------------------------------\u001b[0m",
            "\u001b[0;31mFileNotFoundError\u001b[0m                         Traceback (most recent call last)",
            "\u001b[0;32m<ipython-input-1-b964b1584f37>\u001b[0m in \u001b[0;36m<cell line: 12>\u001b[0;34m()\u001b[0m\n\u001b[1;32m     10\u001b[0m \u001b[0;34m\u001b[0m\u001b[0m\n\u001b[1;32m     11\u001b[0m \u001b[0;31m# csv_location = \"C:\\Users\\amaye\\Downloads\\archiverisk\"\u001b[0m\u001b[0;34m\u001b[0m\u001b[0;34m\u001b[0m\u001b[0m\n\u001b[0;32m---> 12\u001b[0;31m \u001b[0mhypertensionData\u001b[0m \u001b[0;34m=\u001b[0m \u001b[0mpd\u001b[0m\u001b[0;34m.\u001b[0m\u001b[0mread_csv\u001b[0m\u001b[0;34m(\u001b[0m\u001b[0;34mr\"C:\\Users\\amaye\\Downloads\\archiverisk\\Hypertension-risk-model-main.csv\"\u001b[0m\u001b[0;34m)\u001b[0m\u001b[0;34m\u001b[0m\u001b[0;34m\u001b[0m\u001b[0m\n\u001b[0m\u001b[1;32m     13\u001b[0m \u001b[0;34m\u001b[0m\u001b[0m\n\u001b[1;32m     14\u001b[0m \u001b[0mhypertensionData\u001b[0m \u001b[0;34m=\u001b[0m \u001b[0mhypertensionData\u001b[0m\u001b[0;34m.\u001b[0m\u001b[0mdropna\u001b[0m\u001b[0;34m(\u001b[0m\u001b[0maxis\u001b[0m\u001b[0;34m=\u001b[0m\u001b[0;36m0\u001b[0m\u001b[0;34m)\u001b[0m\u001b[0;34m\u001b[0m\u001b[0;34m\u001b[0m\u001b[0m\n",
            "\u001b[0;32m/usr/local/lib/python3.10/dist-packages/pandas/io/parsers/readers.py\u001b[0m in \u001b[0;36mread_csv\u001b[0;34m(filepath_or_buffer, sep, delimiter, header, names, index_col, usecols, dtype, engine, converters, true_values, false_values, skipinitialspace, skiprows, skipfooter, nrows, na_values, keep_default_na, na_filter, verbose, skip_blank_lines, parse_dates, infer_datetime_format, keep_date_col, date_parser, date_format, dayfirst, cache_dates, iterator, chunksize, compression, thousands, decimal, lineterminator, quotechar, quoting, doublequote, escapechar, comment, encoding, encoding_errors, dialect, on_bad_lines, delim_whitespace, low_memory, memory_map, float_precision, storage_options, dtype_backend)\u001b[0m\n\u001b[1;32m    910\u001b[0m     \u001b[0mkwds\u001b[0m\u001b[0;34m.\u001b[0m\u001b[0mupdate\u001b[0m\u001b[0;34m(\u001b[0m\u001b[0mkwds_defaults\u001b[0m\u001b[0;34m)\u001b[0m\u001b[0;34m\u001b[0m\u001b[0;34m\u001b[0m\u001b[0m\n\u001b[1;32m    911\u001b[0m \u001b[0;34m\u001b[0m\u001b[0m\n\u001b[0;32m--> 912\u001b[0;31m     \u001b[0;32mreturn\u001b[0m \u001b[0m_read\u001b[0m\u001b[0;34m(\u001b[0m\u001b[0mfilepath_or_buffer\u001b[0m\u001b[0;34m,\u001b[0m \u001b[0mkwds\u001b[0m\u001b[0;34m)\u001b[0m\u001b[0;34m\u001b[0m\u001b[0;34m\u001b[0m\u001b[0m\n\u001b[0m\u001b[1;32m    913\u001b[0m \u001b[0;34m\u001b[0m\u001b[0m\n\u001b[1;32m    914\u001b[0m \u001b[0;34m\u001b[0m\u001b[0m\n",
            "\u001b[0;32m/usr/local/lib/python3.10/dist-packages/pandas/io/parsers/readers.py\u001b[0m in \u001b[0;36m_read\u001b[0;34m(filepath_or_buffer, kwds)\u001b[0m\n\u001b[1;32m    575\u001b[0m \u001b[0;34m\u001b[0m\u001b[0m\n\u001b[1;32m    576\u001b[0m     \u001b[0;31m# Create the parser.\u001b[0m\u001b[0;34m\u001b[0m\u001b[0;34m\u001b[0m\u001b[0m\n\u001b[0;32m--> 577\u001b[0;31m     \u001b[0mparser\u001b[0m \u001b[0;34m=\u001b[0m \u001b[0mTextFileReader\u001b[0m\u001b[0;34m(\u001b[0m\u001b[0mfilepath_or_buffer\u001b[0m\u001b[0;34m,\u001b[0m \u001b[0;34m**\u001b[0m\u001b[0mkwds\u001b[0m\u001b[0;34m)\u001b[0m\u001b[0;34m\u001b[0m\u001b[0;34m\u001b[0m\u001b[0m\n\u001b[0m\u001b[1;32m    578\u001b[0m \u001b[0;34m\u001b[0m\u001b[0m\n\u001b[1;32m    579\u001b[0m     \u001b[0;32mif\u001b[0m \u001b[0mchunksize\u001b[0m \u001b[0;32mor\u001b[0m \u001b[0miterator\u001b[0m\u001b[0;34m:\u001b[0m\u001b[0;34m\u001b[0m\u001b[0;34m\u001b[0m\u001b[0m\n",
            "\u001b[0;32m/usr/local/lib/python3.10/dist-packages/pandas/io/parsers/readers.py\u001b[0m in \u001b[0;36m__init__\u001b[0;34m(self, f, engine, **kwds)\u001b[0m\n\u001b[1;32m   1405\u001b[0m \u001b[0;34m\u001b[0m\u001b[0m\n\u001b[1;32m   1406\u001b[0m         \u001b[0mself\u001b[0m\u001b[0;34m.\u001b[0m\u001b[0mhandles\u001b[0m\u001b[0;34m:\u001b[0m \u001b[0mIOHandles\u001b[0m \u001b[0;34m|\u001b[0m \u001b[0;32mNone\u001b[0m \u001b[0;34m=\u001b[0m \u001b[0;32mNone\u001b[0m\u001b[0;34m\u001b[0m\u001b[0;34m\u001b[0m\u001b[0m\n\u001b[0;32m-> 1407\u001b[0;31m         \u001b[0mself\u001b[0m\u001b[0;34m.\u001b[0m\u001b[0m_engine\u001b[0m \u001b[0;34m=\u001b[0m \u001b[0mself\u001b[0m\u001b[0;34m.\u001b[0m\u001b[0m_make_engine\u001b[0m\u001b[0;34m(\u001b[0m\u001b[0mf\u001b[0m\u001b[0;34m,\u001b[0m \u001b[0mself\u001b[0m\u001b[0;34m.\u001b[0m\u001b[0mengine\u001b[0m\u001b[0;34m)\u001b[0m\u001b[0;34m\u001b[0m\u001b[0;34m\u001b[0m\u001b[0m\n\u001b[0m\u001b[1;32m   1408\u001b[0m \u001b[0;34m\u001b[0m\u001b[0m\n\u001b[1;32m   1409\u001b[0m     \u001b[0;32mdef\u001b[0m \u001b[0mclose\u001b[0m\u001b[0;34m(\u001b[0m\u001b[0mself\u001b[0m\u001b[0;34m)\u001b[0m \u001b[0;34m->\u001b[0m \u001b[0;32mNone\u001b[0m\u001b[0;34m:\u001b[0m\u001b[0;34m\u001b[0m\u001b[0;34m\u001b[0m\u001b[0m\n",
            "\u001b[0;32m/usr/local/lib/python3.10/dist-packages/pandas/io/parsers/readers.py\u001b[0m in \u001b[0;36m_make_engine\u001b[0;34m(self, f, engine)\u001b[0m\n\u001b[1;32m   1659\u001b[0m                 \u001b[0;32mif\u001b[0m \u001b[0;34m\"b\"\u001b[0m \u001b[0;32mnot\u001b[0m \u001b[0;32min\u001b[0m \u001b[0mmode\u001b[0m\u001b[0;34m:\u001b[0m\u001b[0;34m\u001b[0m\u001b[0;34m\u001b[0m\u001b[0m\n\u001b[1;32m   1660\u001b[0m                     \u001b[0mmode\u001b[0m \u001b[0;34m+=\u001b[0m \u001b[0;34m\"b\"\u001b[0m\u001b[0;34m\u001b[0m\u001b[0;34m\u001b[0m\u001b[0m\n\u001b[0;32m-> 1661\u001b[0;31m             self.handles = get_handle(\n\u001b[0m\u001b[1;32m   1662\u001b[0m                 \u001b[0mf\u001b[0m\u001b[0;34m,\u001b[0m\u001b[0;34m\u001b[0m\u001b[0;34m\u001b[0m\u001b[0m\n\u001b[1;32m   1663\u001b[0m                 \u001b[0mmode\u001b[0m\u001b[0;34m,\u001b[0m\u001b[0;34m\u001b[0m\u001b[0;34m\u001b[0m\u001b[0m\n",
            "\u001b[0;32m/usr/local/lib/python3.10/dist-packages/pandas/io/common.py\u001b[0m in \u001b[0;36mget_handle\u001b[0;34m(path_or_buf, mode, encoding, compression, memory_map, is_text, errors, storage_options)\u001b[0m\n\u001b[1;32m    857\u001b[0m         \u001b[0;32mif\u001b[0m \u001b[0mioargs\u001b[0m\u001b[0;34m.\u001b[0m\u001b[0mencoding\u001b[0m \u001b[0;32mand\u001b[0m \u001b[0;34m\"b\"\u001b[0m \u001b[0;32mnot\u001b[0m \u001b[0;32min\u001b[0m \u001b[0mioargs\u001b[0m\u001b[0;34m.\u001b[0m\u001b[0mmode\u001b[0m\u001b[0;34m:\u001b[0m\u001b[0;34m\u001b[0m\u001b[0;34m\u001b[0m\u001b[0m\n\u001b[1;32m    858\u001b[0m             \u001b[0;31m# Encoding\u001b[0m\u001b[0;34m\u001b[0m\u001b[0;34m\u001b[0m\u001b[0m\n\u001b[0;32m--> 859\u001b[0;31m             handle = open(\n\u001b[0m\u001b[1;32m    860\u001b[0m                 \u001b[0mhandle\u001b[0m\u001b[0;34m,\u001b[0m\u001b[0;34m\u001b[0m\u001b[0;34m\u001b[0m\u001b[0m\n\u001b[1;32m    861\u001b[0m                 \u001b[0mioargs\u001b[0m\u001b[0;34m.\u001b[0m\u001b[0mmode\u001b[0m\u001b[0;34m,\u001b[0m\u001b[0;34m\u001b[0m\u001b[0;34m\u001b[0m\u001b[0m\n",
            "\u001b[0;31mFileNotFoundError\u001b[0m: [Errno 2] No such file or directory: 'C:\\\\Users\\\\amaye\\\\Downloads\\\\archiverisk\\\\Hypertension-risk-model-main.csv'"
          ]
        }
      ],
      "source": [
        "import pandas as pd\n",
        "from sklearn.tree import DecisionTreeRegressor\n",
        "from sklearn.model_selection import train_test_split\n",
        "from sklearn.metrics import mean_absolute_error\n",
        "from sklearn import linear_model, metrics,preprocessing, model_selection, svm\n",
        "import csv\n",
        "from matplotlib import pyplot\n",
        "from pandas.plotting import scatter_matrix\n",
        "import numpy as np\n",
        "\n",
        "# csv_location = \"C:\\Users\\amaye\\Downloads\\archiverisk\"\n",
        "hypertensionData = pd.read_csv(\"Hypertension-risk-model-main.csv\")\n",
        "\n",
        "hypertensionData = hypertensionData.dropna(axis=0)\n",
        "y = hypertensionData.Risk.values\n",
        "\n",
        "# NA\n",
        "print(hypertensionData)\n",
        "columns = ['age','BMI','glucose', 'Risk']\n",
        "matrixData = hypertensionData[columns]\n",
        "\n",
        "#shows scatter plot\n",
        "# scatter_matrix(df)\n",
        "\n",
        "hypertensionData_features = ['age','BMI','glucose']\n",
        "X = hypertensionData[hypertensionData_features].values\n",
        "\n",
        "risk_model = DecisionTreeRegressor(random_state=1)\n",
        "\n",
        "#shows histogram\n",
        "# X.hist()\n",
        "# pyplot.show()\n",
        "\n",
        "#shows scatter plot\n",
        "scatter_matrix(matrixData)\n",
        "\n",
        "# hypertensionData.plot(kind='scatter',\n",
        "#         x='BMI',\n",
        "#         y='Risk',\n",
        "#         color='red')\n",
        "# pyplot.scatter(x='BMI',y='Risk',color='green')\n",
        "\n",
        "\n",
        "# pyplot.pie(\"male\", )\n",
        "# hypertensionData['male'].plot.pie(autopct='%1.1f%%')\n",
        "\n",
        "# hypertensionData.groupby('age').Risk.value_counts().unstack().plot.pie(autopct='%1.1f%%')\n",
        "\n",
        "# set the title\n",
        "# pyplot.title('ScatterPlot')\n",
        "\n",
        "# print(hypertensionData.corr())\n",
        "\n",
        "\n",
        "\n",
        "\n",
        "# ser = hypertensionData.Series([age, 2, 3, 3])\n",
        "# plot = ser.plot(kind='hist', title=\"My plot\")\n",
        "# hypertensionData.plot(kind='hist',title=\"my Hist\",\n",
        "#         color='red')\n",
        "# print(hypertensionData[\"Risk\"].value_counts())\n",
        "# hypertensionData['Risk'].hist(by=hypertensionData['age'], figsize = (8,6))\n",
        "\n",
        "hypertensionData.groupby('age').Risk.value_counts().unstack().plot.bar(width=1, stacked=True)\n",
        "\n",
        "# show the plot\n",
        "pyplot.show()\n",
        "\n",
        "X_train, X_test, y_train, y_test = model_selection.train_test_split(X,y,test_size=0.3)\n",
        "# mylog_model = linear_model.LogisticRegression(solver='lbfgs',max_iter=2000)\n",
        "# mylog_model.fit(X,y)\n",
        "risk_model.fit(X_train,y_train)\n",
        "\n",
        "# print(risk_model.predict([[37,52.6,104]]))\n",
        "# y_pred_log = risk_model.predict(X_test)\n",
        "\n",
        "# print(metrics.accuracy_score(y_test, y_pred_log))"
      ]
    },
    {
      "cell_type": "code",
      "execution_count": null,
      "id": "eae68770-d5c1-4cf0-ad8d-06a8b948059e",
      "metadata": {
        "id": "eae68770-d5c1-4cf0-ad8d-06a8b948059e",
        "outputId": "abf4866e-19ed-4fb7-8879-5d292c54d09b"
      },
      "outputs": [
        {
          "data": {
            "text/html": [
              "<div>\n",
              "<style scoped>\n",
              "    .dataframe tbody tr th:only-of-type {\n",
              "        vertical-align: middle;\n",
              "    }\n",
              "\n",
              "    .dataframe tbody tr th {\n",
              "        vertical-align: top;\n",
              "    }\n",
              "\n",
              "    .dataframe thead th {\n",
              "        text-align: right;\n",
              "    }\n",
              "</style>\n",
              "<table border=\"1\" class=\"dataframe\">\n",
              "  <thead>\n",
              "    <tr style=\"text-align: right;\">\n",
              "      <th></th>\n",
              "      <th>age</th>\n",
              "      <th>BMI</th>\n",
              "      <th>glucose</th>\n",
              "      <th>Risk</th>\n",
              "    </tr>\n",
              "  </thead>\n",
              "  <tbody>\n",
              "    <tr>\n",
              "      <th>age</th>\n",
              "      <td>1.000000</td>\n",
              "      <td>0.136428</td>\n",
              "      <td>0.118529</td>\n",
              "      <td>0.305292</td>\n",
              "    </tr>\n",
              "    <tr>\n",
              "      <th>BMI</th>\n",
              "      <td>0.136428</td>\n",
              "      <td>1.000000</td>\n",
              "      <td>0.088133</td>\n",
              "      <td>0.303411</td>\n",
              "    </tr>\n",
              "    <tr>\n",
              "      <th>glucose</th>\n",
              "      <td>0.118529</td>\n",
              "      <td>0.088133</td>\n",
              "      <td>1.000000</td>\n",
              "      <td>0.085776</td>\n",
              "    </tr>\n",
              "    <tr>\n",
              "      <th>Risk</th>\n",
              "      <td>0.305292</td>\n",
              "      <td>0.303411</td>\n",
              "      <td>0.085776</td>\n",
              "      <td>1.000000</td>\n",
              "    </tr>\n",
              "  </tbody>\n",
              "</table>\n",
              "</div>"
            ],
            "text/plain": [
              "              age       BMI   glucose      Risk\n",
              "age      1.000000  0.136428  0.118529  0.305292\n",
              "BMI      0.136428  1.000000  0.088133  0.303411\n",
              "glucose  0.118529  0.088133  1.000000  0.085776\n",
              "Risk     0.305292  0.303411  0.085776  1.000000"
            ]
          },
          "execution_count": 4,
          "metadata": {},
          "output_type": "execute_result"
        }
      ],
      "source": [
        "matrixData.corr()"
      ]
    },
    {
      "cell_type": "code",
      "execution_count": null,
      "id": "a90c935d-1493-4ca5-8100-9877fdd1f100",
      "metadata": {
        "id": "a90c935d-1493-4ca5-8100-9877fdd1f100",
        "outputId": "ff0c87ab-3343-44f3-ca27-32afddeaaa4c"
      },
      "outputs": [
        {
          "name": "stdin",
          "output_type": "stream",
          "text": [
            "Enter your age  37\n",
            "Enter your BMI 18\n",
            "Enter your glucose 100\n"
          ]
        }
      ],
      "source": [
        "age = float(input(\"Enter your age \"))\n",
        "bmi = float(input(\"Enter your BMI\"))\n",
        "glucose = float(input(\"Enter your glucose\"))"
      ]
    },
    {
      "cell_type": "code",
      "execution_count": null,
      "id": "8ea6b331-1614-4923-91aa-4e41e674f395",
      "metadata": {
        "id": "8ea6b331-1614-4923-91aa-4e41e674f395",
        "outputId": "c0431281-e4cb-408d-c238-9bdcf68be3ad"
      },
      "outputs": [
        {
          "name": "stdout",
          "output_type": "stream",
          "text": [
            "You have a low risk of getting Hypertension\n"
          ]
        }
      ],
      "source": [
        "prediction = risk_model.predict([[age,bmi,glucose]])\n",
        "# print(prediction[0])\n",
        "\n",
        "\n",
        "if prediction[0] == np.float64(1):\n",
        "    print(\"You have a high risk of getting Hypertension\")\n",
        "else:\n",
        "    print(\"You have a low risk of getting Hypertension\")\n",
        "\n"
      ]
    },
    {
      "cell_type": "code",
      "execution_count": null,
      "id": "d04b5e8e-47a8-44f7-9d9f-557ec73536d9",
      "metadata": {
        "id": "d04b5e8e-47a8-44f7-9d9f-557ec73536d9"
      },
      "outputs": [],
      "source": []
    }
  ],
  "metadata": {
    "kernelspec": {
      "display_name": "Python 3 (ipykernel)",
      "language": "python",
      "name": "python3"
    },
    "language_info": {
      "codemirror_mode": {
        "name": "ipython",
        "version": 3
      },
      "file_extension": ".py",
      "mimetype": "text/x-python",
      "name": "python",
      "nbconvert_exporter": "python",
      "pygments_lexer": "ipython3",
      "version": "3.11.7"
    },
    "colab": {
      "provenance": []
    }
  },
  "nbformat": 4,
  "nbformat_minor": 5
}